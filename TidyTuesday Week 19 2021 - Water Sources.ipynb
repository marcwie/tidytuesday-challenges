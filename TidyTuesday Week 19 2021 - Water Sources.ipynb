{
 "cells": [
  {
   "cell_type": "code",
   "execution_count": 1,
   "id": "e1c88883",
   "metadata": {},
   "outputs": [],
   "source": [
    "import pandas as pd\n",
    "from shapely.geometry import Point\n",
    "from shapely.ops import cascaded_union\n",
    "from matplotlib import pyplot as plt\n",
    "from cartopy import crs as ccrs\n",
    "from cartopy import feature as cfeature\n",
    "import cartopy.io.shapereader as shpreader\n",
    "import geopandas as gpd\n",
    "import requests\n",
    "import os"
   ]
  },
  {
   "cell_type": "code",
   "execution_count": 2,
   "id": "e3492696",
   "metadata": {},
   "outputs": [],
   "source": [
    "COLORS = [\"#16a085\", \"#2980b9\", \"#8e44ad\", \"#f39c12\", \"#c0392b\", \"#2c3e50\", \"#95a5a6\"]\n",
    "URL = \"https://raw.githubusercontent.com/rfordatascience/tidytuesday/master/data/2021/2021-05-04/water.csv\""
   ]
  },
  {
   "cell_type": "code",
   "execution_count": 3,
   "id": "b10730e1",
   "metadata": {},
   "outputs": [],
   "source": [
    "def download_data(url, target=\"water.csv\"):\n",
    "    \"\"\"Download input file from the web.\"\"\"\n",
    "    if not os.path.exists(target):\n",
    "        r = requests.get(url, allow_redirects=True)\n",
    "        open(target, 'wb').write(r.content)\n",
    "        \n",
    "def load_data(infile=\"water.csv\"):\n",
    "    return pd.read_csv(infile)\n",
    "    \n",
    "def shapefile_continent(continent=\"Africa\"):\n",
    "    \"\"\"Get a single combined shapefile for a specified continent.\"\"\"\n",
    "    shpfilename = shpreader.natural_earth(resolution='110m', category='cultural', name='admin_0_countries')\n",
    "    reader = shpreader.Reader(shpfilename)\n",
    "    valid_shapes = [record.geometry for record in reader.records() if record.attributes[\"CONTINENT\"] == continent]\n",
    "    \n",
    "    return gpd.GeoSeries(cascaded_union(valid_shapes))\n",
    "\n",
    "def filter_data(data, continent=\"Africa\"):\n",
    "    \"\"\"Remove all data points that are not within the specified continent.\"\"\"\n",
    "    shapefile = shapefile_continent(continent=continent)\n",
    "    mask = [shapefile.contains(Point(lon, lat)).bool() for lat, lon in zip(data[\"lat_deg\"], data[\"lon_deg\"])]\n",
    "    return data[mask]\n",
    "\n",
    "def harmonize_water_sources(data):\n",
    "    \"\"\"Replace water_source by more general attributes\"\"\"\n",
    "    \n",
    "    # Summarize all sources that appear only in few instances as others\n",
    "    count = data.groupby(\"water_source\").count()[\"row_id\"]\n",
    "    others = count[count < 0.01 * len(data)].index.tolist()\n",
    "    \n",
    "    data[\"water_source\"] = data['water_source'].replace(others,'Other')\n",
    "    data[\"water_source\"] = data['water_source'].replace(['Protected Spring', 'Unprotected Spring', 'Undefined Spring'],'Spring')\n",
    "    data[\"water_source\"] = data['water_source'].replace(['Protected Shallow Well', 'Unprotected Shallow Well', 'Undefined Shallow Well'],'Shallow Well')\n",
    "    data[\"water_source\"] = data['water_source'].replace(['Surface Water (River/Stream/Lake/Pond/Dam)'],'Surface Water')\n",
    "    data.water_source = data.water_source.fillna(\"Unknown\")\n",
    "\n",
    "    return data"
   ]
  },
  {
   "cell_type": "code",
   "execution_count": 5,
   "id": "7c675c57",
   "metadata": {},
   "outputs": [],
   "source": [
    "# Load the data, filter out all points outside Africa and categorize the water sources\n",
    "download_data(url=URL)\n",
    "data = load_data()\n",
    "data = filter_data(data)\n",
    "data = harmonize_water_sources(data)"
   ]
  },
  {
   "cell_type": "code",
   "execution_count": null,
   "id": "b1817bf8",
   "metadata": {},
   "outputs": [],
   "source": [
    "fig = plt.figure(figsize=(9.5, 6))\n",
    "\n",
    "# Get the shapefile for Africa\n",
    "shpfile = shapefile_continent(continent=\"Africa\")\n",
    "\n",
    "# Start by drawing a pie chart for the proportions of each water source\n",
    "ax = fig.add_subplot(2,4,1, projection=ccrs.Robinson())\n",
    "sources_count = data.groupby(\"water_source\").count()[\"row_id\"].sort_values(ascending=False)\n",
    "cs = sources_count.plot.pie(colors=COLORS, ax=ax, labels=None, ylabel=\"\", autopct='%1.0f%%', pctdistance=1.18, startangle=220)\n",
    "ax.axis('equal')\n",
    "ax.set_title(\"Proportions of water sources\", y=1.05)\n",
    "\n",
    "# Iterate over each source and draw its locations in unique color on separate maps\n",
    "for i, (color, source) in enumerate(zip(COLORS, sources_count.index.to_list())): \n",
    "\n",
    "    ax = fig.add_subplot(2,4,i+2, projection=ccrs.Robinson())\n",
    "    ax.set_extent([-21, 60, -40, 40], crs=ccrs.PlateCarree())\n",
    "    \n",
    "    x0, y0, x1, y1 = shpfile.bounds.loc[0].values\n",
    "    ax.set_extent([x0, x1, y0, y1], crs=ccrs.PlateCarree())\n",
    "    ax.add_geometries(shpfile, crs=ccrs.PlateCarree(), facecolor=\"None\")\n",
    "    ax.axis('off')\n",
    "    \n",
    "    x = data[data.water_source == source].lon_deg\n",
    "    y = data[data.water_source == source].lat_deg\n",
    "    ax.scatter(x=x, y=y, c=color, s=5, transform=ccrs.PlateCarree(), rasterized=True) \n",
    "    \n",
    "    ax.set_title(source, y=1.05 if i < 3 else -0.17)\n",
    "\n",
    "# Finalize the figure\n",
    "plt.subplots_adjust(wspace=0.0, hspace=0.2, left=0.02, right=1, top=0.85, bottom=0.12)\n",
    "fig.patch.set_facecolor('#ecf0f1')\n",
    "plt.suptitle(\"Distribution of Water Sources in Africa\", fontsize=16) \n",
    "fig.text(0.99, 0.015, \"@m_wiedermann | Data provided by Water Point Data Exchange via https://github.com/rfordatascience/tidytuesday\", ha=\"right\", size=12)\n",
    "plt.savefig(\"water_sources.jpg\", dpi=500)\n",
    "plt.show()"
   ]
  },
  {
   "cell_type": "code",
   "execution_count": null,
   "id": "d83493a5",
   "metadata": {},
   "outputs": [],
   "source": []
  }
 ],
 "metadata": {
  "kernelspec": {
   "display_name": "Python 3",
   "language": "python",
   "name": "python3"
  },
  "language_info": {
   "codemirror_mode": {
    "name": "ipython",
    "version": 3
   },
   "file_extension": ".py",
   "mimetype": "text/x-python",
   "name": "python",
   "nbconvert_exporter": "python",
   "pygments_lexer": "ipython3",
   "version": "3.8.5"
  }
 },
 "nbformat": 4,
 "nbformat_minor": 5
}
